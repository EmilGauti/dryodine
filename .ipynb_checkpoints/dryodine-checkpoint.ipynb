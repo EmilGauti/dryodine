{
 "cells": [
  {
   "cell_type": "code",
   "execution_count": 41,
   "metadata": {},
   "outputs": [
    {
     "name": "stdout",
     "output_type": "stream",
     "text": [
      "[4.80984421 5.02027163 5.18057253 5.39699254 5.62500365 5.87621057\n",
      " 6.12152587 6.37750549 6.63455395 6.92734507 7.18578321 7.44232826]\n",
      "[306.889641  30.21417   38.127405  47.47941   58.98957   70.49973\n",
      "  74.096655  83.44866   84.88743  108.483258 125.748498 259.985739\n",
      " 272.646915]\n"
     ]
    },
    {
     "data": {
      "text/plain": [
       "Text(0.0031, 7, '-5088.0199x+21.7254')"
      ]
     },
     "execution_count": 41,
     "metadata": {},
     "output_type": "execute_result"
    },
    {
     "data": {
      "image/png": "[encoded data removed]",
      "text/plain": [
       "<Figure size 432x288 with 1 Axes>"
      ]
     },
     "metadata": {
      "needs_background": "light"
     },
     "output_type": "display_data"
    }
   ],
   "source": [
    "import numpy as np\n",
    "import matplotlib.pyplot as plt\n",
    "data = np.loadtxt('dataa.csv', delimiter=',', unpack=False,skiprows=1)\n",
    "R = 8.3144621\n",
    "d = 0.01\n",
    "\n",
    "theta_rot = 1.43877*0.037315 # [K]\n",
    "sigma = 2\n",
    "\n",
    "v = np.array([213.3, 21.0, 26.5, 33.0,41.0,49.0,51.5,58.0,59.0,75.4,87.4,180.7,189.5]) #v[0] er spes, lengdin er 0,1,2...,13\n",
    "eps = np.array([68.65,68.2,67.7,67.2,66.75,66.3,65.85,65.4,65,64.6,64.2,63.8])\n",
    "ln_P = np.log(data[:,7]*R*data[:,1]/(eps*d))\n",
    "print(P)\n",
    "theta_j = 1.43877*v\n",
    "print(theta_j)\n",
    "\n",
    "plt.scatter(data[:,2],ln_P)\n",
    "a,b = np.polyfit(data[:,2],ln_P,1)\n",
    "X = np.linspace(0.0025,0.0035,100)\n",
    "plt.plot(X,a*X+b)\n",
    "plt.title('ln(P) vs. 1/T')\n",
    "plt.xlabel('1/T[1/K]')\n",
    "plt.ylabel('ln(P)')\n",
    "plt.xlim(0.0028,0.0034)\n",
    "plt.text(x=0.0031,y=7,s=str(round(a,4))+'x+'+str(round(b,4)))\n"
   ]
  },
  {
   "cell_type": "code",
   "execution_count": 71,
   "metadata": {},
   "outputs": [
    {
     "name": "stdout",
     "output_type": "stream",
     "text": [
      "E:  [266354.52709059 270253.43663656 274262.19905323 278110.58564264\n",
      " 281909.34504159 285625.8816162  289336.64271337 292996.53877034\n",
      " 296631.21969753 300141.68073795 303726.29437153 307294.08771369]\n"
     ]
    }
   ],
   "source": [
    "def margfeldni(theta_j,T):\n",
    "    margfeldi = np.ones(len(T))*(1-np.exp(-theta_j[0]/T))**0.5#EF eitthvað er skŕitið þá er það þetta\n",
    "    for i in range(len(T)):\n",
    "        for j in range(1,12):\n",
    "            margfeldi[i] = margfeldi[i]*(1-np.exp(-theta_j[j]/T[i]))**0.5\n",
    "    return margfeldi\n",
    "\n",
    "def equilibrium(ln_P,T,theta_rot,theta_j,sigma,R):\n",
    "    margfeldi = margfeldni(theta_j,T)\n",
    "    theta_vib = theta_j[0]\n",
    "    h = 6.626*10**(-34) #Js\n",
    "    m = 253.8089*10**(-3) #kg/mol\n",
    "    k = 1.38064852*10**(-23)\n",
    "    A = np.log(T**(7/2)*margfeldi/(1-np.exp(-theta_vib/T)))\n",
    "    B = np.log((2*np.pi*m*k/h**2)**(3/2)*k/(sigma*theta_rot))\n",
    "    E = (-ln_P+A+B)*R*T\n",
    "    return E\n",
    "\n",
    "print('E: ', equilibrium(ln_P,data[:,1],theta_rot,theta_j,2,R))\n"
   ]
  },
  {
   "cell_type": "code",
   "execution_count": null,
   "metadata": {},
   "outputs": [],
   "source": []
  }
 ],
 "metadata": {
  "kernelspec": {
   "display_name": "Python 3",
   "language": "python",
   "name": "python3"
  },
  "language_info": {
   "codemirror_mode": {
    "name": "ipython",
    "version": 3
   },
   "file_extension": ".py",
   "mimetype": "text/x-python",
   "name": "python",
   "nbconvert_exporter": "python",
   "pygments_lexer": "ipython3",
   "version": "3.7.1"
  }
 },
 "nbformat": 4,
 "nbformat_minor": 2
}
